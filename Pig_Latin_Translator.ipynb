{
  "nbformat": 4,
  "nbformat_minor": 0,
  "metadata": {
    "colab": {
      "name": "Pig Latin Translator",
      "provenance": [],
      "collapsed_sections": [],
      "authorship_tag": "ABX9TyOld9/mgSXu3qKeIQ0FrBnC",
      "include_colab_link": true
    },
    "kernelspec": {
      "name": "python3",
      "display_name": "Python 3"
    },
    "language_info": {
      "name": "python"
    }
  },
  "cells": [
    {
      "cell_type": "markdown",
      "metadata": {
        "id": "view-in-github",
        "colab_type": "text"
      },
      "source": [
        "<a href=\"https://colab.research.google.com/github/Prachi-110/Pig-Latin-Translator/blob/main/Pig_Latin_Translator.ipynb\" target=\"_parent\"><img src=\"https://colab.research.google.com/assets/colab-badge.svg\" alt=\"Open In Colab\"/></a>"
      ]
    },
    {
      "cell_type": "markdown",
      "source": [
        "### Pig Latin Translator \n",
        "\n",
        "The function `translate_word`, which returns the Pig Latin \"translation\" of the provided word, given as the parameter `word`. The rules of Pig Latin are:\n",
        "\n",
        "* If a word starts with a consonant and a vowel, put the first letter of the word at the end of the word and add \"ay.\"\n",
        " * Example: happy = appyh + ay = appyhay\n",
        "\n",
        "* If a word starts with two consonants, move the two consonants to the end of the word and add \"ay.\"\n",
        " * Example: child = ildch + ay = ildchay\n",
        "\n",
        "* If a word starts with a vowel, add the word \"way\" at the end of the word.\n",
        " * Example: awesome = awesome + way = awesomeway\n",
        "\n",
        "\n",
        "\n",
        "Example:\n",
        "\n",
        "* `print(translate_sentence('To be or not to be that is the question.'))`\n",
        "* Output: `otay ebay orway otnay otay ebay atthay isway ethay uestionqay`"
      ],
      "metadata": {
        "id": "M11PAvSCC0wr"
      }
    },
    {
      "cell_type": "markdown",
      "source": [
        "Components\n",
        "Used slicing and concatenation to carve up the word and rearrange the letters as needed.\n",
        "\n",
        "Used nested if-statements to check if a word begins with a consonant or vowel and then, in the case where the word starts with a consonant, have an inner if-statement check if the next letter is a consonant or vowel. \n",
        "\n",
        "\n",
        "The idea usedhere is the `in` operator to check whether a particular letter in the input `word` argument is a consonant or vowel. As an example: \n",
        "\n"
      ],
      "metadata": {
        "id": "SpLEmrszC2nU"
      }
    },
    {
      "cell_type": "code",
      "source": [
        "def translate_word(word):\n",
        "    vowels = 'aeiou'\n",
        "    consonants = 'bcdfghjklmnpqrstvwxyz'\n",
        "    word=word.lower()\n",
        "    if word[0] in vowels:\n",
        "      return word+'way'\n",
        "    else:\n",
        "      if word[1] in vowels:\n",
        "        return word[1:]+word[:1]+'ay'\n",
        "      if word[1] in consonants:\n",
        "        return word[2:]+word[:2]+'ay'\n",
        "  \n",
        "# You don't need to do anything to this function. It helps you test your code.\n",
        "def translate_sentence(sentence):\n",
        "    return ' '.join([translate_word(word) for word in sentence.strip('.?! ').split()])\n",
        "\n",
        "# Test cases\n",
        "print('Actual:   ' + translate_sentence('To be or not to be that is the question.'))\n",
        "print('Expected: otay ebay orway otnay otay ebay atthay isway ethay uestionqay')\n",
        "print('Actual:   ' + translate_sentence('A day without laughter is a day wasted.'))\n",
        "print('Expected: away ayday ithoutway aughterlay isway away ayday astedway')\n",
        "print('Actual:   ' + translate_sentence('I refuse to join any club that would have me as a member.'))\n",
        "print('Expected: iway efuseray otay oinjay anyway ubclay atthay ouldway avehay emay asway away embermay')\n",
        "print('Actual:   ' + translate_sentence('Why is there so much month left at the end of the money?'))\n",
        "print('Expected: ywhay isway erethay osay uchmay onthmay eftlay atway ethay endway ofway ethay oneymay')\n",
        "    \n",
        "\n",
        "\n",
        "\n"
      ],
      "metadata": {
        "colab": {
          "base_uri": "https://localhost:8080/"
        },
        "id": "g1CqrkCHC1uG",
        "outputId": "fb81aabf-5b9d-46c6-fcb5-5f77ab26ad2b"
      },
      "execution_count": 2,
      "outputs": [
        {
          "output_type": "stream",
          "name": "stdout",
          "text": [
            "Actual:   otay ebay orway otnay otay ebay atthay isway ethay uestionqay\n",
            "Expected: otay ebay orway otnay otay ebay atthay isway ethay uestionqay\n",
            "Actual:   away ayday ithoutway aughterlay isway away ayday astedway\n",
            "Expected: away ayday ithoutway aughterlay isway away ayday astedway\n",
            "Actual:   iway efuseray otay oinjay anyway ubclay atthay ouldway avehay emay asway away embermay\n",
            "Expected: iway efuseray otay oinjay anyway ubclay atthay ouldway avehay emay asway away embermay\n",
            "Actual:   ywhay isway erethay osay uchmay onthmay eftlay atway ethay endway ofway ethay oneymay\n",
            "Expected: ywhay isway erethay osay uchmay onthmay eftlay atway ethay endway ofway ethay oneymay\n"
          ]
        }
      ]
    }
  ]
}